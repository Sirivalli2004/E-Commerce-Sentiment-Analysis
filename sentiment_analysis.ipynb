# Step 1: Import Libraries
import pandas as pd
import numpy as np
import re
import nltk
from nltk.corpus import stopwords
from nltk.stem.porter import PorterStemmer
from sklearn.model_selection import train_test_split
from sklearn.feature_extraction.text import CountVectorizer, TfidfVectorizer
from sklearn.linear_model import LogisticRegression
from sklearn.naive_bayes import MultinomialNB
from sklearn.metrics import accuracy_score, confusion_matrix, classification_report
import matplotlib.pyplot as plt
import seaborn as sns

# Step 2: Load Dataset
data = pd.read_csv('../data/ecommerce_reviews.csv')
print(data.head())

# Step 3: Text Cleaning
nltk.download('stopwords')
ps = PorterStemmer()
stop_words = set(stopwords.words('english'))

def clean_text(text):
    text = re.sub('[^a-zA-Z]', ' ', text)   # Remove numbers/punctuation
    text = text.lower().split()              # Lowercase and split
    text = [ps.stem(word) for word in text if word not in stop_words] # Remove stopwords & stem
    return ' '.join(text)

data['cleaned_review'] = data['review'].apply(clean_text)
print(data[['review', 'cleaned_review']].head())

# Step 4: Feature Extraction
cv = CountVectorizer(max_features=3000)
X = cv.fit_transform(data['cleaned_review']).toarray()
y = data['sentiment']

# Step 5: Train-Test Split
X_train, X_test, y_train, y_test = train_test_split(X, y, test_size=0.2, random_state=42)

# Step 6: Train Models
# Logistic Regression
lr = LogisticRegression()
lr.fit(X_train, y_train)
y_pred_lr = lr.predict(X_test)
print("Logistic Regression Accuracy:", accuracy_score(y_test, y_pred_lr))

# Naive Bayes
nb = MultinomialNB()
nb.fit(X_train, y_train)
y_pred_nb = nb.predict(X_test)
print("Naive Bayes Accuracy:", accuracy_score(y_test, y_pred_nb))

# Step 7: Confusion Matrix & Report
print("Confusion Matrix (LR):\n", confusion_matrix(y_test, y_pred_lr))
print("Classification Report (LR):\n", classification_report(y_test, y_pred_lr))

# Step 8: Optional Visualization
sns.countplot(data['sentiment'])
plt.title("Sentiment Distribution")
plt.show()
